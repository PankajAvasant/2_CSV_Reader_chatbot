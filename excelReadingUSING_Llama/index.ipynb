{
 "cells": [
  {
   "cell_type": "code",
   "execution_count": 1,
   "metadata": {},
   "outputs": [],
   "source": [
    "from pathlib import Path\n",
    "from llama_index import download_loader\n",
    "\n",
    "PandasExcelReader = download_loader(\"PandasExcelReader\")\n",
    "\n",
    "loader = PandasExcelReader(pandas_config={\"header\": 0})\n",
    "documents = loader.load_data(file=Path('../input_Files/GDP.xls'))\n"
   ]
  },
  {
   "cell_type": "code",
   "execution_count": 5,
   "metadata": {},
   "outputs": [
    {
     "name": "stdout",
     "output_type": "stream",
     "text": [
      "[Document(id_='d3f6fdeb-58ec-4ad7-bfca-6516a8b6de4b', embedding=None, metadata={}, excluded_embed_metadata_keys=[], excluded_llm_metadata_keys=[], relationships={}, hash='187b6ce308c4b2c2299a850890148eba52d7ca752c1c4008b9c49ccc6562362a', text=\"USA\\n1\\nUnited States\\n25462700.0\\nCHN\\n2\\nChina\\n17963170.5210798\\nJPN\\n3\\nJapan\\n4231141.20186317\\nDEU\\n4\\nGermany\\n4072191.73608951\\nIND\\n5\\nIndia\\n3385089.88193539\\nGBR\\n6\\nUnited Kingdom\\n3070667.73235921\\nFRA\\n7\\nFrance\\n2782905.32562452\\nRUS\\n8\\nRussian Federation\\n2240422.43836327\\nCAN\\n9\\nCanada\\n2139840.02367381\\nITA\\n10\\nItaly\\n2010431.5984653798\\nBRA\\n11\\nBrazil\\n1920095.56099506\\nAUS\\n12\\nAustralia\\n1675418.6650670902\\nKOR\\n13\\nKorea, Rep.\\n1665245.53859496\\nMEX\\n14\\nMexico\\n1414187.19399225\\nESP\\n15\\nSpain\\n1397509.27205448\\nIDN\\n16\\nIndonesia\\n1319100.22038902\\nSAU\\n17\\nSaudi Arabia\\n1108148.97821849\\nNLD\\n18\\nNetherlands\\n991114.635529187\\nTUR\\n19\\nTürkiye\\n905987.824096127\\nCHE\\n20\\nSwitzerland\\n807706.03535175\\nPOL\\n21\\nPoland\\n688176.605954787\\nARG\\n22\\nArgentina\\n632770.28440851\\nSWE\\n23\\nSweden\\n585939.1701238559\\nNOR\\n24\\nNorway\\n579267.365866343\\nBEL\\n25\\nBelgium\\n578604.103123349\\nCUB\\n26\\nCuba\\n545217.9\\nIRL\\n27\\nIreland\\n529244.870222765\\nISR\\n28\\nIsrael\\n522033.446211625\\nARE\\n29\\nUnited Arab Emirates\\n507534.921715453\\nTHA\\n30\\nThailand\\n495340.59281118796\\nNGA\\n31\\nNigeria\\n477386.12063584494\\nEGY\\n32\\nEgypt, Arab Rep.\\n476747.720364742\\nAUT\\n33\\nAustria\\n471400.066091247\\nSGP\\n34\\nSingapore\\n466788.539651836\\nBGD\\n35\\nBangladesh\\n460201.000095101\\nVNM\\n36\\nVietnam\\n408802.379068229\\nMYS\\n37\\nMalaysia\\n406305.924656071\\nZAF\\n38\\nSouth Africa\\n405869.71846234304\\nPHL\\n39\\nPhilippines\\n404284.327311713\\nDNK\\n40\\nDenmark\\n395403.90658200096\\nIRN\\n41\\nIran, Islamic Rep.\\n388544.46813973296\\nPAK\\n42\\nPakistan\\n376532.751806989\\nHKG\\n43\\nHong Kong SAR, China\\n359838.598806091\\nCOL\\n44\\nColombia\\n343939.445259487\\nROU\\n45\\nRomania\\n301261.582924085\\nCHL\\n46\\nChile\\n301025.249437947\\nCZE\\n47\\nCzech Republic\\n290923.534700518\\nFIN\\n48\\nFinland\\n280825.957768484\\nIRQ\\n49\\nIraq\\n264182.173793103\\nPRT\\n50\\nPortugal\\n251945.377529388\\nNZL\\n51\\nNew Zealand\\n247234.053739267\\nPER\\n52\\nPeru\\n242631.549613268\\nQAT\\n53\\nQatar\\n237295.575171103\\nKAZ\\n54\\nKazakhstan\\n220623.00196668602\\nGRC\\n55\\nGreece\\n219065.87246625\\nDZA\\n56\\nAlgeria\\n191912.889420911\\nKWT\\n57\\nKuwait\\n184558.274288737\\nHUN\\n58\\nHungary\\n178788.57206758898\\nUKR\\n59\\nUkraine\\n160502.739236097\\nMAR\\n60\\nMorocco\\n134181.587769796\\nETH\\n61\\nEthiopia\\n126783.472501134\\nSVK\\n62\\nSlovak Republic\\n115468.803971543\\nECU\\n63\\nEcuador\\n115049.476\\nOMN\\n64\\nOman\\n114667.36020806199\\nDOM\\n65\\nDominican Republic\\n113641.857434002\\nPRI\\n66\\nPuerto Rico\\n113434.8\\nKEN\\n67\\nKenya\\n113420.008178793\\nAGO\\n68\\nAngola\\n106713.618735434\\nGTM\\n69\\nGuatemala\\n95003.3333811936\\nBGR\\n70\\nBulgaria\\n89040.3984063745\\nLUX\\n71\\nLuxembourg\\n82274.81225091859\\nUZB\\n72\\nUzbekistan\\n80391.853884764\\nAZE\\n73\\nAzerbaijan\\n78721.0588235294\\nPAN\\n74\\nPanama\\n76522.5117806222\\nTZA\\n75\\nTanzania\\n75709.28905644569\\nLKA\\n76\\nSri Lanka\\n74403.5783634355\\nGHA\\n77\\nGhana\\n72838.7987877066\\nBLR\\n78\\nBelarus\\n72793.45758843671\\nURY\\n79\\nUruguay\\n71177.14619749511\\nHRV\\n80\\nCroatia\\n70964.6064646427\\nLTU\\n81\\nLithuania\\n70334.2990083797\\nCIV\\n82\\nCôte d'Ivoire\\n70018.7150166967\\nCRI\\n83\\nCosta Rica\\n68380.8383162777\\nSRB\\n84\\nSerbia\\n63501.748652296796\\nSVN\\n85\\nSlovenia\\n62117.7680148563\\nMMR\\n86\\nMyanmar\\n59364.3625405524\\nCOD\\n87\\nCongo, Dem. Rep.\\n58065.9535733247\\nSDN\\n88\\nSudan\\n51662.2417752425\\nJOR\\n89\\nJordan\\n47451.4998591549\\nTUN\\n90\\nTunisia\\n46664.9489516571\\nLBY\\n91\\nLibya\\n45752.3360359846\\nTKM\\n92\\nTurkmenistan\\n45610.571428571406\\nUGA\\n93\\nUganda\\n45559.2020487345\\nBHR\\n94\\nBahrain\\n44390.8204787234\\nCMR\\n95\\nCameroon\\n44341.646509219296\\nBOL\\n96\\nBolivia\\n43068.885672937795\\nPRY\\n97\\nParaguay\\n41722.2953620667\\nLVA\\n98\\nLatvia\\n41153.912662862\\nNPL\\n99\\nNepal\\n40828.2473024851\\nEST\\n100\\nEstonia\\n38100.8129585196\\nSLV\\n101\\nEl Salvador\\n32488.72\\nHND\\n102\\nHonduras\\n31717.7001152546\\nPNG\\n103\\nPapua New Guinea\\n30633.444294631\\nKHM\\n104\\nCambodia\\n29956.769529428002\\nZMB\\n105\\nZambia\\n29784.4540559391\\nCYP\\n106\\nCyprus\\n28439.0527408561\\nTTO\\n107\\nTrinidad and Tobago\\n27899.0823373688\\nISL\\n108\\nIceland\\n27841.648044375303\\nSEN\\n109\\nSenegal\\n27684.4302444907\\nGEO\\n110\\nGeorgia\\n24605.3754200672\\nBIH\\n111\\nBosnia and Herzegovina\\n24527.5072877962\\nLBN\\n112\\nLebanon\\n23131.941556784303\\nMAC\\n113\\nMacao SAR, China\\n21979.4755606214\\nGIN\\n114\\nGuinea\\n21227.7493887287\\nGAB\\n115\\nGabon\\n21071.7392279428\\nZWE\\n116\\nZimbabwe\\n20678.0555977345\\nBWA\\n117\\nBotswana\\n20352.3221571467\\nHTI\\n118\\nHaiti\\n20253.551885214598\\nARM\\n119\\nArmenia\\n19502.7839878807\\nPSE\\n120\\nWest Bank and Gaza\\n19111.9\\nBFA\\n121\\nBurkina Faso\\n18884.6196134388\\nALB\\n122\\nAlbania\\n18882.0955178768\\nMLI\\n123\\nMali\\n18827.1765323169\\nMOZ\\n124\\nMozambique\\n17851.491427676498\\nMLT\\n125\\nMalta\\n17765.270014757098\\nBEN\\n126\\nBenin\\n17401.746309266\\nJAM\\n127\\nJamaica\\n17097.7607452096\\nMNG\\n128\\nMongolia\\n16810.883360913\\nBRN\\n129\\nBrunei Darussalam\\n16681.5316457347\\nLAO\\n130\\nLao PDR\\n15724.3837832385\\nNIC\\n131\\nNicaragua\\n15671.583877971201\\nGUY\\n132\\nGuyana\\n15357.5370683434\\nMDG\\n133\\nMadagascar\\n14954.9676044073\\nCOG\\n134\\nCongo, Rep.\\n14615.532210052299\\nAFG\\n135\\nAfghanistan\\n14583.1352365744\\nMDA\\n136\\nMoldova\\n14420.9478835979\\nNER\\n137\\nNiger\\n13969.6055825202\\nMKD\\n138\\nNorth Macedonia\\n13563.1320572486\\nRWA\\n139\\nRwanda\\n13312.796765233601\\nMWI\\n140\\nMalawi\\n13164.6676269363\\nMUS\\n141\\nMauritius\\n12898.3070891315\\nBHS\\n142\\nBahamas, The\\n12897.4\\nTCD\\n143\\nChad\\n12704.149842037301\\nNAM\\n144\\nNamibia\\n12607.436975945999\\nGNQ\\n145\\nEquatorial Guinea\\n11813.9084478131\\nCHI\\n146\\nChannel Islands\\n11735.662219777201\\nSYR\\n147\\nSyrian Arab Republic\\n11159.2740402708\\nKGZ\\n148\\nKyrgyz Republic\\n10930.6449152401\\nTJK\\n149\\nTajikistan\\n10492.1233877931\\nMRT\\n150\\nMauritania\\n10375.4606804361\\nNCL\\n151\\nNew Caledonia\\n10071.3497071581\\nXKX\\n152\\nKosovo\\n9429.156201958509\\nMCO\\n153\\nMonaco\\n8596.156573643271\\nTGO\\n154\\nTogo\\n8126.43948061302\\nSOM\\n155\\nSomalia\\n8126.1056\\nBMU\\n156\\nBermuda\\n7550.5\\nLIE\\n157\\nLiechtenstein\\n7186.42878311896\\nIMN\\n158\\nIsle of Man\\n6684.22926852985\\nMDV\\n159\\nMaldives\\n6189.86540823158\\nGUM\\n160\\nGuam\\n6123.0\\nMNE\\n161\\nMontenegro\\n6095.97886769929\\nPYF\\n162\\nFrench Polynesia\\n6080.35930528965\\nCYM\\n163\\nCayman Islands\\n6028.3735414743405\\nBRB\\n164\\nBarbados\\n5637.9145146379005\\nFJI\\n165\\nFiji\\n4943.2482000441\\nSWZ\\n166\\nEswatini\\n4854.16763837388\\nVIR\\n167\\nVirgin Islands (U.S.)\\n4204.0\\nLBR\\n168\\nLiberia\\n4001.04715\\nSLE\\n169\\nSierra Leone\\n3970.34385231939\\nFRO\\n170\\nFaroe Islands\\n3649.8786802281097\\nSUR\\n171\\nSuriname\\n3620.6551162207397\\nDJI\\n172\\nDjibouti\\n3515.10907546098\\nAND\\n173\\nAndorra\\n3352.0327370391\\nGRL\\n174\\nGreenland\\n3235.81619506609\\nTLS\\n175\\nTimor-Leste\\n3163.32463103158\\nABW\\n176\\nAruba\\n3126.01938547486\\nBDI\\n177\\nBurundi\\n3073.4146778438503\\nBLZ\\n178\\nBelize\\n2824.08183619867\\nCUW\\n179\\nCuraçao\\n2699.61245810056\\nLSO\\n180\\nLesotho\\n2553.4597627992002\\nBTN\\n181\\nBhutan\\n2539.55132748291\\nCAF\\n182\\nCentral African Republic\\n2382.6186153562003\\nCPV\\n183\\nCabo Verde\\n2314.8167920629103\\nGMB\\n184\\nGambia, The\\n2273.06086313981\\nLCA\\n185\\nSt. Lucia\\n2065.02755555556\\nSMR\\n186\\nSan Marino\\n1855.38283314678\\nATG\\n187\\nAntigua and Barbuda\\n1757.6037037037001\\nGNB\\n188\\nGuinea-Bissau\\n1633.55909206611\\nSLB\\n189\\nSolomon Islands\\n1595.71078431373\\nSYC\\n190\\nSeychelles\\n1588.40647915511\\nSXM\\n191\\nSint Maarten (Dutch part)\\n1571.5642458100601\\nGRD\\n192\\nGrenada\\n1256.41318518519\\nCOM\\n193\\nComoros\\n1242.5194072782099\\nTCA\\n194\\nTurks and Caicos Islands\\n1138.8088811\\nVUT\\n195\\nVanuatu\\n983.582864560796\\nKNA\\n196\\nSt. Kitts and Nevis\\n961.563259259259\\nVCT\\n197\\nSt. Vincent and the Grenadines\\n948.558503126378\\nMNP\\n198\\nNorthern Mariana Islands\\n858.0\\nWSM\\n199\\nSamoa\\n832.4215653723561\\nASM\\n200\\nAmerican Samoa\\n709.0\\nDMA\\n201\\nDominica\\n612.0481481481479\\nSTP\\n202\\nSão Tomé and Principe\\n546.680341647274\\nTON\\n203\\nTonga\\n469.228124153914\\nFSM\\n204\\nMicronesia, Fed. Sts.\\n427.09411911131696\\nMHL\\n205\\nMarshall Islands\\n279.6679\\nKIR\\n206\\nKiribati\\n223.352943188404\\nPLW\\n207\\nPalau\\n217.8\\nNRU\\n208\\nNauru\\n150.922211044258\\nTUV\\n209\\nTuvalu\\n60.349391098803295\", start_char_idx=None, end_char_idx=None, text_template='{metadata_str}\\n\\n{content}', metadata_template='{key}: {value}', metadata_seperator='\\n')]\n"
     ]
    }
   ],
   "source": [
    "print(documents)    "
   ]
  },
  {
   "cell_type": "code",
   "execution_count": null,
   "metadata": {},
   "outputs": [],
   "source": [
    "# finix ko lagao\n",
    "# pinecode.."
   ]
  }
 ],
 "metadata": {
  "kernelspec": {
   "display_name": "venv",
   "language": "python",
   "name": "python3"
  },
  "language_info": {
   "codemirror_mode": {
    "name": "ipython",
    "version": 3
   },
   "file_extension": ".py",
   "mimetype": "text/x-python",
   "name": "python",
   "nbconvert_exporter": "python",
   "pygments_lexer": "ipython3",
   "version": "3.11.5"
  }
 },
 "nbformat": 4,
 "nbformat_minor": 2
}
