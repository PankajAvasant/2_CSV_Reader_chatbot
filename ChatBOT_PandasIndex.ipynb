{
 "cells": [
  {
   "cell_type": "code",
   "execution_count": 9,
   "metadata": {},
   "outputs": [],
   "source": [
    "from llama_index.indices.struct_store import GPTPandasIndex\n",
    "import pandas as pd"
   ]
  },
  {
   "cell_type": "code",
   "execution_count": 10,
   "metadata": {},
   "outputs": [
    {
     "name": "stdout",
     "output_type": "stream",
     "text": [
      "    Countries  Ranking      country_Name  Economy in US_dollars\n",
      "0         USA        1     United States           2.546270e+07\n",
      "1         CHN        2             China           1.796317e+07\n",
      "2         JPN        3             Japan           4.231141e+06\n",
      "3         DEU        4           Germany           4.072192e+06\n",
      "4         IND        5             India           3.385090e+06\n",
      "..        ...      ...               ...                    ...\n",
      "204       MHL      205  Marshall Islands           2.796679e+02\n",
      "205       KIR      206          Kiribati           2.233529e+02\n",
      "206       PLW      207             Palau           2.178000e+02\n",
      "207       NRU      208             Nauru           1.509222e+02\n",
      "208       TUV      209            Tuvalu           6.034939e+01\n",
      "\n",
      "[209 rows x 4 columns]\n"
     ]
    }
   ],
   "source": [
    "df = pd.read_excel(r\"./input_Files/GDP.xls\")\n",
    "print(df)"
   ]
  },
  {
   "cell_type": "code",
   "execution_count": 19,
   "metadata": {},
   "outputs": [],
   "source": [
    "# Look for a URL in the output to open the App in a browser.\n",
    "# import phoenix as px\n",
    "# session = px.launch_app()\n",
    "\n",
    "# The App is initially empty, but as you proceed with the steps below,\n",
    "# traces will appear automatically as your LlamaIndex application runs.\n",
    "\n",
    "# import llama_index\n",
    "# llama_index.set_global_handler(\"arize_phoenix\")"
   ]
  },
  {
   "cell_type": "code",
   "execution_count": 3,
   "metadata": {},
   "outputs": [],
   "source": [
    "index = GPTPandasIndex(df=df)\n",
    "\n",
    "query_engine = index.as_query_engine(\n",
    "    verbose=True\n",
    ")\n"
   ]
  },
  {
   "cell_type": "code",
   "execution_count": 5,
   "metadata": {},
   "outputs": [
    {
     "name": "stdout",
     "output_type": "stream",
     "text": [
      "> Pandas Instructions:\n",
      "```\n",
      "df.nlargest(5, 'Economy in US_dollars')[['country_Name', 'Economy in US_dollars']]\n",
      "```\n",
      "> Pandas Output:     country_Name  Economy in US_dollars\n",
      "0  United States           2.546270e+07\n",
      "1          China           1.796317e+07\n",
      "2          Japan           4.231141e+06\n",
      "3        Germany           4.072192e+06\n",
      "4          India           3.385090e+06\n",
      "    country_Name  Economy in US_dollars\n",
      "0  United States           2.546270e+07\n",
      "1          China           1.796317e+07\n",
      "2          Japan           4.231141e+06\n",
      "3        Germany           4.072192e+06\n",
      "4          India           3.385090e+06\n"
     ]
    }
   ],
   "source": [
    "response = query_engine.query(\n",
    "    \"name 5 countries with maximum US_Dollars values and give me their GDP numbers\",\n",
    ")\n",
    "\n",
    "print(response.response)"
   ]
  },
  {
   "cell_type": "code",
   "execution_count": null,
   "metadata": {},
   "outputs": [],
   "source": []
  }
 ],
 "metadata": {
  "kernelspec": {
   "display_name": "venv",
   "language": "python",
   "name": "python3"
  },
  "language_info": {
   "codemirror_mode": {
    "name": "ipython",
    "version": 3
   },
   "file_extension": ".py",
   "mimetype": "text/x-python",
   "name": "python",
   "nbconvert_exporter": "python",
   "pygments_lexer": "ipython3",
   "version": "3.11.5"
  }
 },
 "nbformat": 4,
 "nbformat_minor": 2
}
